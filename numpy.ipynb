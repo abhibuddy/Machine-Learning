{
 "cells": [
  {
   "cell_type": "markdown",
   "metadata": {},
   "source": [
    "## let's learn the concepts of numpy  "
   ]
  },
  {
   "cell_type": "code",
   "execution_count": 2,
   "metadata": {},
   "outputs": [],
   "source": [
    "import numpy as np"
   ]
  },
  {
   "cell_type": "code",
   "execution_count": 8,
   "metadata": {},
   "outputs": [
    {
     "name": "stdout",
     "output_type": "stream",
     "text": [
      "[ 2  4  6  8 10]\n",
      "[ 3  5  7  9 11]\n"
     ]
    }
   ],
   "source": [
    "list1 = [2, 4, 6, 8, 10]\n",
    "n_arr=np.array(list1) # converting list to narray\n",
    "print(n_arr)\n",
    "print(n_arr + 1)  #element wise operation"
   ]
  },
  {
   "cell_type": "code",
   "execution_count": 31,
   "metadata": {},
   "outputs": [
    {
     "data": {
      "text/plain": [
       "array([[9, 0, 4, 6],\n",
       "       [4, 6, 1, 1]])"
      ]
     },
     "execution_count": 31,
     "metadata": {},
     "output_type": "execute_result"
    }
   ],
   "source": [
    "list2 = [[9, 0, 4, 6], \n",
    "         [4 ,6, 1, 1]]\n",
    "arr2 = np.array(list2)\n",
    "arr2"
   ]
  },
  {
   "cell_type": "code",
   "execution_count": 15,
   "metadata": {},
   "outputs": [
    {
     "name": "stdout",
     "output_type": "stream",
     "text": [
      "[[ True False  True  True]\n",
      " [ True  True  True  True]]\n",
      "[[1. 0. 1. 1.]\n",
      " [1. 1. 1. 1.]]\n",
      "[[1. 0. 1. 1.]\n",
      " [1. 1. 1. 1.]]\n"
     ]
    }
   ],
   "source": [
    "arr3 = arr2.astype('bool')\n",
    "print(arr3)\n",
    "arr4=np.array(arr3,dtype='float')\n",
    "print(arr4)\n",
    "arr4.tolist()\n",
    "print(arr4) # converitng arr back to list "
   ]
  },
  {
   "cell_type": "code",
   "execution_count": 24,
   "metadata": {},
   "outputs": [
    {
     "name": "stdout",
     "output_type": "stream",
     "text": [
      "size 8\n",
      "shape (2, 4)\n",
      "data type:  bool\n",
      "num of dimension:  2\n",
      "max:  True\n",
      "min:  False\n",
      "mean:  0.875\n",
      "median:  1.0\n",
      "sum:  7\n",
      "average:  0.875\n",
      "var:  0.109375\n",
      "shape now: (4, 2)\n"
     ]
    }
   ],
   "source": [
    "print(\"size\",arr3.size)\n",
    "print(\"shape\",arr3.shape)\n",
    "print(\"data type: \",arr3.dtype)\n",
    "print(\"num of dimension: \",arr3.ndim)\n",
    "print(\"max: \",arr3.max())\n",
    "print(\"min: \",arr3.min())\n",
    "print(\"mean: \",arr3.mean())\n",
    "print(\"median: \",np.median(arr3))\n",
    "print(\"sum: \",arr3.sum())\n",
    "print(\"average: \",np.average(arr3))\n",
    "print(\"var: \",arr3.var())\n",
    "arr3 = arr3.reshape(4,2)\n",
    "print(\"shape now:\",arr3.shape)\n",
    "\n"
   ]
  },
  {
   "cell_type": "code",
   "execution_count": 27,
   "metadata": {},
   "outputs": [
    {
     "name": "stdout",
     "output_type": "stream",
     "text": [
      "[2 3 4 5 6 7 8 9]\n",
      "[10  9  8  7  6  5  4  3  2  1]\n"
     ]
    }
   ],
   "source": [
    "print(np.arange(2,10))\n",
    "print(np.arange(10,0,-1))"
   ]
  },
  {
   "cell_type": "code",
   "execution_count": 35,
   "metadata": {},
   "outputs": [
    {
     "name": "stdout",
     "output_type": "stream",
     "text": [
      "(2, 4)\n"
     ]
    },
    {
     "data": {
      "text/plain": [
       "array([1., 0., 1., 1., 1., 1., 1., 1.])"
      ]
     },
     "execution_count": 35,
     "metadata": {},
     "output_type": "execute_result"
    }
   ],
   "source": [
    "arr2=arr4\n",
    "print(arr2.shape)\n",
    "arr2.flatten()"
   ]
  },
  {
   "cell_type": "code",
   "execution_count": 39,
   "metadata": {},
   "outputs": [
    {
     "name": "stdout",
     "output_type": "stream",
     "text": [
      "[[0. 0. 0. 0.]\n",
      " [0. 0. 0. 0.]\n",
      " [0. 0. 0. 0.]\n",
      " [0. 0. 0. 0.]\n",
      " [0. 0. 0. 0.]\n",
      " [0. 0. 0. 0.]\n",
      " [0. 0. 0. 0.]\n",
      " [0. 0. 0. 0.]\n",
      " [0. 0. 0. 0.]\n",
      " [0. 0. 0. 0.]]\n"
     ]
    }
   ],
   "source": [
    "arr5= np.linspace(start=1,stop=10,num=3)\n",
    "arr5\n",
    "print(np.zeros([10,4]))"
   ]
  },
  {
   "cell_type": "code",
   "execution_count": 43,
   "metadata": {},
   "outputs": [
    {
     "name": "stdout",
     "output_type": "stream",
     "text": [
      "[1 2 4 5 7]\n",
      "[2 2 4 3 1]\n"
     ]
    }
   ],
   "source": [
    "\n",
    "arr = [[1, 4, 5, 2 ,2, 5], \n",
    "       [4, 4, 1, 7, 4, 5]]\n",
    "unique_values,count=np.unique(arr,return_counts=True)\n",
    "print(unique_values)\n",
    "print(count)"
   ]
  },
  {
   "cell_type": "code",
   "execution_count": null,
   "metadata": {},
   "outputs": [],
   "source": []
  }
 ],
 "metadata": {
  "kernelspec": {
   "display_name": "Python 3",
   "language": "python",
   "name": "python3"
  },
  "language_info": {
   "codemirror_mode": {
    "name": "ipython",
    "version": 3
   },
   "file_extension": ".py",
   "mimetype": "text/x-python",
   "name": "python",
   "nbconvert_exporter": "python",
   "pygments_lexer": "ipython3",
   "version": "3.11.5"
  }
 },
 "nbformat": 4,
 "nbformat_minor": 2
}
