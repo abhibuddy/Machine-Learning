{
 "cells": [
  {
   "cell_type": "markdown",
   "metadata": {},
   "source": [
    "# python crash tutorial"
   ]
  },
  {
   "cell_type": "code",
   "execution_count": 1,
   "metadata": {},
   "outputs": [
    {
     "name": "stdout",
     "output_type": "stream",
     "text": [
      "Let's start\n"
     ]
    }
   ],
   "source": [
    "print(\"Let's start\")"
   ]
  },
  {
   "cell_type": "code",
   "execution_count": 2,
   "metadata": {},
   "outputs": [
    {
     "name": "stdout",
     "output_type": "stream",
     "text": [
      "8\n",
      "1\n",
      "1.36\n"
     ]
    }
   ],
   "source": [
    "a = 2\n",
    "b = 3\n",
    "print(a**b) #power\n",
    "print(b//a) #floor division\n",
    "print(round(number=1.356765875858,ndigits=2))"
   ]
  },
  {
   "cell_type": "code",
   "execution_count": 3,
   "metadata": {},
   "outputs": [
    {
     "name": "stdout",
     "output_type": "stream",
     "text": [
      "hi 5 there!\n",
      "the value of b : 3\n",
      "<class 'int'>\n"
     ]
    }
   ],
   "source": [
    "a = 'hi ' +str(5)+ ' there!'\n",
    "print(a) \n",
    "print(f'the value of b : {b}')\n",
    "print(type(b))"
   ]
  },
  {
   "cell_type": "code",
   "execution_count": 4,
   "metadata": {},
   "outputs": [],
   "source": [
    "num = int(input(\"enter a number: \"))"
   ]
  },
  {
   "cell_type": "code",
   "execution_count": 3,
   "metadata": {},
   "outputs": [
    {
     "name": "stdout",
     "output_type": "stream",
     "text": [
      "0 1 2 3 4 5 6 7 8 9 "
     ]
    }
   ],
   "source": [
    "for num in range(10):\n",
    "    print(num,end=\" \")"
   ]
  },
  {
   "cell_type": "code",
   "execution_count": 5,
   "metadata": {},
   "outputs": [
    {
     "name": "stdout",
     "output_type": "stream",
     "text": [
      "0 1 2 3 4 5 6 7 8 9 "
     ]
    }
   ],
   "source": [
    "i = 0\n",
    "while( i!=10):\n",
    "    print(i,end=\" \")\n",
    "    i+=1"
   ]
  },
  {
   "cell_type": "markdown",
   "metadata": {},
   "source": [
    "#### let's learn about List"
   ]
  },
  {
   "cell_type": "code",
   "execution_count": 10,
   "metadata": {},
   "outputs": [
    {
     "data": {
      "text/plain": [
       "['Install Python', 'Learn Python', 'Take a break']"
      ]
     },
     "execution_count": 10,
     "metadata": {},
     "output_type": "execute_result"
    }
   ],
   "source": [
    "tasks = [\"Install Python\", \"Learn Python\", \"Take a break\"]\n",
    "tasks"
   ]
  },
  {
   "cell_type": "code",
   "execution_count": 9,
   "metadata": {},
   "outputs": [
    {
     "data": {
      "text/plain": [
       "[0, 1, 2, 3, 4, 5, 6, 7, 8, 9]"
      ]
     },
     "execution_count": 9,
     "metadata": {},
     "output_type": "execute_result"
    }
   ],
   "source": [
    "list(range(0, 10))"
   ]
  },
  {
   "cell_type": "code",
   "execution_count": 11,
   "metadata": {},
   "outputs": [
    {
     "name": "stdout",
     "output_type": "stream",
     "text": [
      "Take a break\n"
     ]
    }
   ],
   "source": [
    "print(tasks[-1]) #fetch the last index element"
   ]
  },
  {
   "cell_type": "code",
   "execution_count": 12,
   "metadata": {},
   "outputs": [
    {
     "data": {
      "text/plain": [
       "['Install Python', 'Learn Python', 'Take a break', 'learn data science']"
      ]
     },
     "execution_count": 12,
     "metadata": {},
     "output_type": "execute_result"
    }
   ],
   "source": [
    "tasks.append(\"learn data science\")\n",
    "tasks"
   ]
  },
  {
   "cell_type": "code",
   "execution_count": 13,
   "metadata": {},
   "outputs": [
    {
     "data": {
      "text/plain": [
       "['Install Python',\n",
       " 'Learn Python',\n",
       " 'take shower',\n",
       " 'Take a break',\n",
       " 'learn data science',\n",
       " [5, 6, 4],\n",
       " 1,\n",
       " 3,\n",
       " 7]"
      ]
     },
     "execution_count": 13,
     "metadata": {},
     "output_type": "execute_result"
    }
   ],
   "source": [
    "tasks.append([5, 6 ,4])\n",
    "tasks.extend([1, 3, 7])\n",
    "tasks.insert(2,'take shower')\n",
    "#tasks.clear()\n",
    "#tasks.pop(2) #index\n",
    "#tasks.remove('take shower') #value"
   ]
  },
  {
   "cell_type": "markdown",
   "metadata": {},
   "source": [
    "List comprehension"
   ]
  },
  {
   "cell_type": "code",
   "execution_count": 15,
   "metadata": {},
   "outputs": [
    {
     "name": "stdout",
     "output_type": "stream",
     "text": [
      "[2, 4, 6, 8, 10]\n"
     ]
    }
   ],
   "source": [
    "num = [1, 2, 3, 4, 5]\n",
    "nlist = [n*2 for n in num]\n",
    "print(nlist)\n"
   ]
  },
  {
   "cell_type": "markdown",
   "metadata": {},
   "source": [
    "#### tuple"
   ]
  },
  {
   "cell_type": "code",
   "execution_count": 18,
   "metadata": {},
   "outputs": [
    {
     "data": {
      "text/plain": [
       "4"
      ]
     },
     "execution_count": 18,
     "metadata": {},
     "output_type": "execute_result"
    }
   ],
   "source": [
    "\n",
    "x = (1, 2, 3)\n",
    "3 in x\n",
    "x = (1,2,2,3,3, 6, 6 , 6 ,6)\n",
    "x.count(6)"
   ]
  },
  {
   "cell_type": "markdown",
   "metadata": {},
   "source": [
    "#### dictornary"
   ]
  },
  {
   "cell_type": "code",
   "execution_count": 23,
   "metadata": {},
   "outputs": [
    {
     "name": "stdout",
     "output_type": "stream",
     "text": [
      "dict_keys(['age', 'gender', 'is_hilarious', 44])\n",
      "dict_values([5, ['male', 'female', 'male'], False, 'my favorite number!'])\n",
      "{'age': 5, 'gender': ['male', 'female', 'male'], 'is_hilarious': False, 44: 'my favorite number!'}\n",
      "dict_items([('age', 5), ('gender', ['male', 'female', 'male']), ('is_hilarious', False), (44, 'my favorite number!')])\n"
     ]
    }
   ],
   "source": [
    "\n",
    "instructor = {\n",
    "    \"age\": [1, 2, 3, 5, 7],\n",
    "    \"age\": 5,\n",
    "    \"gender\": [\"male\", \"female\", \"male\"], \n",
    "    \"is_hilarious\": False,\n",
    "    44: \"my favorite number!\"\n",
    "}\n",
    "print(instructor.keys())\n",
    "print(instructor.values())\n",
    "print(instructor)\n",
    "print(instructor.items())"
   ]
  },
  {
   "cell_type": "code",
   "execution_count": 27,
   "metadata": {},
   "outputs": [
    {
     "name": "stdout",
     "output_type": "stream",
     "text": [
      "s after addind 5 :  {1, 2, 3, 4, 5}\n",
      "s after union : {1, 3, 4, 5}\n",
      "s after intersection:  {1, 3, 4, 5}\n"
     ]
    }
   ],
   "source": [
    "s = set({1, 2, 3, 4, 5, 5, 5})\n",
    "s.add(5)\n",
    "print(\"s after addind 5 : \",s)\n",
    "s.remove(2)\n",
    "m = set([4, 6, 8, 10, 12, 14, 16])\n",
    "s.union(m)\n",
    "print(\"s after union :\",s)\n",
    "s.intersection(m)\n",
    "print(\"s after intersection: \",s)"
   ]
  },
  {
   "cell_type": "code",
   "execution_count": null,
   "metadata": {},
   "outputs": [],
   "source": []
  }
 ],
 "metadata": {
  "kernelspec": {
   "display_name": "Python 3",
   "language": "python",
   "name": "python3"
  },
  "language_info": {
   "codemirror_mode": {
    "name": "ipython",
    "version": 3
   },
   "file_extension": ".py",
   "mimetype": "text/x-python",
   "name": "python",
   "nbconvert_exporter": "python",
   "pygments_lexer": "ipython3",
   "version": "3.11.5"
  }
 },
 "nbformat": 4,
 "nbformat_minor": 2
}
